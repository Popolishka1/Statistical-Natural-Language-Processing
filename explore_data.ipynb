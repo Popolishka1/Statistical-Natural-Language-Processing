{
 "cells": [
  {
   "cell_type": "code",
   "execution_count": 17,
   "metadata": {},
   "outputs": [],
   "source": [
    "import json"
   ]
  },
  {
   "cell_type": "code",
   "execution_count": 23,
   "metadata": {},
   "outputs": [],
   "source": [
    "data_file_path = \"subtaskB_train.jsonl\"\n",
    "\n",
    "with open(data_file_path, 'r') as file:\n",
    "    data = [json.loads(line) for line in file]\n"
   ]
  },
  {
   "cell_type": "code",
   "execution_count": 24,
   "metadata": {},
   "outputs": [
    {
     "data": {
      "text/plain": [
       "71027"
      ]
     },
     "execution_count": 24,
     "metadata": {},
     "output_type": "execute_result"
    }
   ],
   "source": [
    "len(data)"
   ]
  },
  {
   "cell_type": "code",
   "execution_count": 25,
   "metadata": {},
   "outputs": [
    {
     "name": "stdout",
     "output_type": "stream",
     "text": [
      "['text', 'model', 'source', 'label', 'id']\n"
     ]
    }
   ],
   "source": [
    "keys = list(data[0].keys())\n",
    "print(keys)"
   ]
  },
  {
   "cell_type": "code",
   "execution_count": 28,
   "metadata": {},
   "outputs": [
    {
     "name": "stdout",
     "output_type": "stream",
     "text": [
      "• KEY: text\n",
      "Forza Motorsport is a popular racing game that provides players with the ability to race on various tracks and in different vehicles. Whether you're a seasoned racer or a newbie, playing Forza Motorsport can be a fun experience. In this article, we will take you through the different steps on how to play Forza Motorsport.\n",
      "\n",
      "Step 1. Insert The Game Disc\n",
      "\n",
      "The first step is to insert the game disc into your console or computer. Follow the instructions to set up the game.\n",
      "\n",
      "Step 2. Choose Your Game\n",
      "\n",
      "Once the game is set up, choose the game you'd like to play. Forza Motorsport has different modes: Career, Free Play, and Arcade. In this article, we will focus on the Arcade mode.\n",
      "\n",
      "Step 3. Just Make A Quick Race By The Arcade Mode\n",
      "\n",
      "Once the Arcade mode is selected, choose \"Quick Race\" to get started quickly.\n",
      "\n",
      "Step 4. Pick A Racetrack\n",
      "\n",
      "Pick a racetrack from the different ones available like Road Atlanta, New York, Rio de Janeiro, Maple Valley, or anything to choose from.\n",
      "\n",
      "Step 5. Pick A Class And A Car\n",
      "\n",
      "Forza Motorsport has different car classes, from Classes A, B, C, D, S to R. Pick a class that suits your gaming style and choose a car of your liking.\n",
      "\n",
      "Step 6. The Options Panel\n",
      "\n",
      "The Options Panel opens automatically after choosing a car. Press \"OK\", and be patient while the race is loading. It will show what time, wind direction, wind heading, and miles.\n",
      "\n",
      "Step 7. Accelerate\n",
      "\n",
      "To accelerate, press the Right trigger to make the car engine running.\n",
      "\n",
      "Step 8. Go!\n",
      "\n",
      "Once acceleration is complete, let go of the brakes and hit the gas to go!\n",
      "\n",
      "Step 9. The Arrows\n",
      "\n",
      "To steer, use the left thumbstick and to turn to the left, move the thumbstick left, and to turn right, move the thumbstick right.\n",
      "\n",
      "Step 10. Pause The Game\n",
      "\n",
      "To pause the game, just press the \"start\" button. If you feel lonely and wanted an operant, choose the \"Ghost car\" setting and turn it on.\n",
      "\n",
      "Step 11. Replay the Race\n",
      "\n",
      "If you want to see how well you did, use this feature to see a video of the race, and it will show you turns for some reason.\n",
      "\n",
      "Step 12. Have Fun And Enjoy The Game!\n",
      "\n",
      "In conclusion, Forza Motorsport can be a fun game with its impressive graphics, user-friendly interface, and thrilling gameplay. Follow these steps to improve your gameplay and have fun. \n",
      "\n",
      "• KEY: model\n",
      "chatGPT \n",
      "\n",
      "• KEY: source\n",
      "wikihow \n",
      "\n",
      "• KEY: label\n",
      "1 \n",
      "\n",
      "• KEY: id\n",
      "0 \n",
      "\n"
     ]
    }
   ],
   "source": [
    "for key in keys:\n",
    "    print(\"• KEY:\", key)\n",
    "    print(data[0][key], \"\\n\")"
   ]
  },
  {
   "cell_type": "code",
   "execution_count": 29,
   "metadata": {},
   "outputs": [
    {
     "name": "stdout",
     "output_type": "stream",
     "text": [
      "['chatGPT', 'human', 'cohere', 'davinci', 'bloomz', 'dolly']\n"
     ]
    }
   ],
   "source": [
    "unique_models = []\n",
    "\n",
    "for data_dict in data:\n",
    "    if data_dict[\"model\"] not in unique_models:\n",
    "        unique_models.append(data_dict[\"model\"])\n",
    "\n",
    "print(unique_models)"
   ]
  }
 ],
 "metadata": {
  "kernelspec": {
   "display_name": "base",
   "language": "python",
   "name": "python3"
  },
  "language_info": {
   "codemirror_mode": {
    "name": "ipython",
    "version": 3
   },
   "file_extension": ".py",
   "mimetype": "text/x-python",
   "name": "python",
   "nbconvert_exporter": "python",
   "pygments_lexer": "ipython3",
   "version": "3.12.2"
  }
 },
 "nbformat": 4,
 "nbformat_minor": 2
}
