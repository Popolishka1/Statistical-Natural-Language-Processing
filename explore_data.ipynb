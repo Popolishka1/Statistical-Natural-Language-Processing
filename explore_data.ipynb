{
 "cells": [
  {
   "cell_type": "code",
   "execution_count": 1,
   "metadata": {},
   "outputs": [],
   "source": [
    "import json"
   ]
  },
  {
   "cell_type": "code",
   "execution_count": null,
   "metadata": {},
   "outputs": [],
   "source": [
    "data_file_path = \"subtaskB_dev.jsonl\"\n",
    "\n",
    "with open(data_file_path, 'r') as file:\n",
    "    data = [json.loads(line) for line in file]\n"
   ]
  },
  {
   "cell_type": "code",
   "execution_count": 8,
   "metadata": {},
   "outputs": [
    {
     "data": {
      "text/plain": [
       "5000"
      ]
     },
     "execution_count": 8,
     "metadata": {},
     "output_type": "execute_result"
    }
   ],
   "source": [
    "len(data)"
   ]
  },
  {
   "cell_type": "code",
   "execution_count": 13,
   "metadata": {},
   "outputs": [
    {
     "name": "stdout",
     "output_type": "stream",
     "text": [
      "['text', 'label', 'model', 'source', 'id']\n"
     ]
    }
   ],
   "source": [
    "keys = list(data[0].keys())\n",
    "print(keys)"
   ]
  },
  {
   "cell_type": "code",
   "execution_count": 15,
   "metadata": {},
   "outputs": [
    {
     "name": "stdout",
     "output_type": "stream",
     "text": [
      "key: text\n",
      "Giving gifts should always be enjoyable.  However, it may become stressful when trying to find that perfect present.   This wikiHow will help you figure out exactly what you'd love to receive this year!   If you're having trouble deciding between two different items (or more), try making lists of advantages/disadvantages so you'll know which one would make the best choice.    Make sure it's appropriate - some people don't appreciate receiving certain types of presents from their friends and/or family members.     Don't forget to include any special requests you've already made before now; these might have been forgotten by others who haven't seen them yet.        Write down all... Continue reading →\n",
      "\n",
      "If you can't think of anything specific right away but still feel like getting something nice,  consider giving yourself a treat instead!  Here are just a few suggestions:  Buying yourself flowers Gifting yourself tickets to see your favorite band Take time off work Treat yourself to lunch or dinner at your favorite restaurant Spend extra money on your wardrobe Have a manicure Give yourself a massage Book a hotel room for the night \n",
      "\n",
      "key: label\n",
      "1 \n",
      "\n",
      "key: model\n",
      "bloomz \n",
      "\n",
      "key: source\n",
      "wikihow \n",
      "\n",
      "key: id\n",
      "0 \n",
      "\n"
     ]
    }
   ],
   "source": [
    "for key in keys:\n",
    "    print(\"key:\", key)\n",
    "    print(data[0][key], \"\\n\")"
   ]
  },
  {
   "cell_type": "code",
   "execution_count": 16,
   "metadata": {},
   "outputs": [
    {
     "name": "stdout",
     "output_type": "stream",
     "text": [
      "['bloomz', 'human']\n"
     ]
    }
   ],
   "source": [
    "unique_models = []\n",
    "\n",
    "for data_dict in data:\n",
    "    if data_dict[\"model\"] not in unique_models:\n",
    "        unique_models.append(data_dict[\"model\"])\n",
    "\n",
    "print(unique_models)"
   ]
  }
 ],
 "metadata": {
  "kernelspec": {
   "display_name": "base",
   "language": "python",
   "name": "python3"
  },
  "language_info": {
   "codemirror_mode": {
    "name": "ipython",
    "version": 3
   },
   "file_extension": ".py",
   "mimetype": "text/x-python",
   "name": "python",
   "nbconvert_exporter": "python",
   "pygments_lexer": "ipython3",
   "version": "3.12.2"
  }
 },
 "nbformat": 4,
 "nbformat_minor": 2
}
